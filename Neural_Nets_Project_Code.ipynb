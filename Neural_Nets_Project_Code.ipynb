{
  "cells": [
    {
      "cell_type": "markdown",
      "metadata": {
        "id": "bQZSfizfopRm"
      },
      "source": [
        "# Gesture Recognition\n",
        "In this group project, you are going to build a 3D Conv model that will be able to predict the 5 gestures correctly. Please import the following libraries to get started."
      ]
    },
    {
      "cell_type": "markdown",
      "source": [
        "# EXPLAIN ENTIRE PROJECT HERE, and evaluation **rubrics**"
      ],
      "metadata": {
        "id": "DurZanKWpI-1"
      }
    },
    {
      "cell_type": "code",
      "execution_count": null,
      "metadata": {
        "id": "i8WZJ3FyopRo"
      },
      "outputs": [],
      "source": [
        "import numpy as np\n",
        "import os\n",
        "# from scipy.ndimage import imread, imresize\n",
        "from skimage.io import imread\n",
        "from skimage.transform import resize as imresize\n",
        "import datetime"
      ]
    },
    {
      "cell_type": "markdown",
      "metadata": {
        "id": "QAes0h5OopRp"
      },
      "source": [
        "We set the random seed so that the results don't vary drastically."
      ]
    },
    {
      "cell_type": "code",
      "source": [
        "# !pip install ipdb"
      ],
      "metadata": {
        "id": "rMQ8oaVUfu3f"
      },
      "execution_count": null,
      "outputs": []
    },
    {
      "cell_type": "code",
      "source": [
        "# # !pip install tensorflow==2.8.0\n",
        "# import keras\n",
        "# print(keras.__version__)"
      ],
      "metadata": {
        "id": "F9NWA6iKTlpF"
      },
      "execution_count": null,
      "outputs": []
    },
    {
      "cell_type": "code",
      "execution_count": null,
      "metadata": {
        "id": "uL3J5u5GopRp"
      },
      "outputs": [],
      "source": [
        "np.random.seed(30)\n",
        "\n",
        "import random as rn\n",
        "rn.seed(30)\n",
        "\n",
        "from keras import backend as K\n",
        "import tensorflow as tf\n",
        "tf.random.set_seed(30)"
      ]
    },
    {
      "cell_type": "markdown",
      "metadata": {
        "id": "CTHGXttGopRq"
      },
      "source": [
        "1. read the folder names for training and validation.\n",
        "2. set the `batch_size` here such a way that you are able to use the GPU in full capacity. You keep increasing the batch size until the machine throws an error."
      ]
    },
    {
      "cell_type": "code",
      "source": [
        "from google.colab import drive\n",
        "drive.mount('/content/drive')"
      ],
      "metadata": {
        "colab": {
          "base_uri": "https://localhost:8080/"
        },
        "id": "j5UwAIbY1q5G",
        "outputId": "a1649fc3-0c2b-4eb0-b466-80db00ae74c4"
      },
      "execution_count": null,
      "outputs": [
        {
          "output_type": "stream",
          "name": "stdout",
          "text": [
            "Mounted at /content/drive\n"
          ]
        }
      ]
    },
    {
      "cell_type": "code",
      "execution_count": null,
      "metadata": {
        "id": "gP6bgNcWopRq"
      },
      "outputs": [],
      "source": [
        "train_doc = np.random.permutation(open('/content/drive/MyDrive/Colab Notebooks/gesture_recognition/Project_data/train.csv').readlines())\n",
        "val_doc = np.random.permutation(open('/content/drive/MyDrive/Colab Notebooks/gesture_recognition/Project_data/val.csv').readlines())\n",
        "batch_size = 51"
      ]
    },
    {
      "cell_type": "markdown",
      "metadata": {
        "id": "o3BrTuiiopRq"
      },
      "source": [
        "## Generator\n",
        "1. preprocess the images as you have images of 2 different dimensions as well as create a batch of video frames.\n",
        "2. experiment with `img_idx`, `y`,`z` and normalization such that you get high accuracy."
      ]
    },
    {
      "cell_type": "code",
      "execution_count": null,
      "metadata": {
        "id": "r7W1w1HBopRr"
      },
      "outputs": [],
      "source": [
        "def generator(source_path, folder_list, batch_size):\n",
        "    print( 'Source path = ', source_path, '; batch size =', batch_size)\n",
        "    img_idx = [11,12,13,14,15,16,17,18,19,20,21,22,23,24,25] #create a list of image numbers you want to use for a particular video\n",
        "    while True:\n",
        "        t = np.random.permutation(folder_list)\n",
        "        num_batches = int(len(source_path)/batch_size) # calculate the number of batches\n",
        "        # print('num_batch', num_batches)\n",
        "        # print(len(source_path))\n",
        "        for batch in range(num_batches): # we iterate over the number of batches\n",
        "            batch_data = np.zeros((batch_size,15,100,100,3)) # x is the number of images you use for each video, (y,z) is the final size of the input images and 3 is the number of channels RGB\n",
        "            batch_labels = np.zeros((batch_size,5)) # batch_labels is the one hot representation of the output\n",
        "            for folder in range(batch_size): # iterate over the batch_size\n",
        "                imgs = os.listdir(source_path+'/'+ t[folder + (batch*batch_size)].split(';')[0]) # read all the images in the folder\n",
        "                # print(\"folder_name\", t[folder + (batch*batch_size)].split(';')[0])\n",
        "                for idx,item in enumerate(img_idx): #  Iterate iver the frames/images of a folder to read them in\n",
        "                    # print('source_path',source_path, '  folder', folder, ' batch', batch, 'bactch size',batch_size)\n",
        "                    # print(\"len of img\", len(imgs), \"item:\", item)\n",
        "                    image = imread(source_path+'/'+ t[folder + (batch*batch_size)].strip().split(';')[0]+'/'+imgs[item]).astype(np.float32)\n",
        "                    image.resize(100,100)\n",
        "                    #crop the images and resize them. Note that the images are of 2 different shape\n",
        "                    #and the conv3D will throw error if the inputs in a batch have different shapes\n",
        "\n",
        "                    batch_data[folder,idx,:,:,0] /= 255 #normalise and feed in the image\n",
        "                    batch_data[folder,idx,:,:,1] /= 255 #normalise and feed in the image\n",
        "                    batch_data[folder,idx,:,:,2] /= 255 #normalise and feed in the image\n",
        "\n",
        "                batch_labels[folder, int(t[folder + (batch*batch_size)].strip().split(';')[2])] = 1\n",
        "            yield batch_data, batch_labels #you yield the batch_data and the batch_labels, remember what does yield do\n",
        "\n",
        "\n",
        "        # write the code for the remaining data points which are left after full batches\n",
        "        if((len(source_path)%batch_size)//2==0):\n",
        "            batch_size = 2\n",
        "        else:\n",
        "            batch_size = 1\n",
        "        num_batches = len(source_path)%batch_size # calculate the number of batches\n",
        "        for batch in range(num_batches): # we iterate over the number of batches\n",
        "            batch_data = np.zeros((batch_size,15,100,100,3)) # x is the number of images you use for each video, (y,z) is the final size of the input images and 3 is the number of channels RGB\n",
        "            batch_labels = np.zeros((batch_size,5)) # batch_labels is the one hot representation of the output\n",
        "            for folder in range(batch_size): # iterate over the batch_size\n",
        "                imgs = os.listdir(source_path+'/'+ t[folder + (batch*batch_size)].split(';')[0]) # read all the images in the folder\n",
        "                for idx,item in enumerate(img_idx): #  Iterate iver the frames/images of a folder to read them in\n",
        "                    image = imread(source_path+'/'+ t[folder + (batch*batch_size)].strip().split(';')[0]+'/'+imgs[item]).astype(np.float32)\n",
        "\n",
        "                    # Cropped image of above dimension\n",
        "                    # (It will not change orginal image)\n",
        "\n",
        "                    #image = image.crop((0, 0, 120, 120))\n",
        "                    image = image.resize(100, 100)\n",
        "\n",
        "\n",
        "                    #crop the images and resize them. Note that the images are of 2 different shape\n",
        "                    #and the conv3D will throw error if the inputs in a batch have different shapes\n",
        "\n",
        "                    batch_data[folder,idx,:,:,0] /= 255\n",
        "                    batch_data[folder,idx,:,:,1] /= 255 #normalise and feed in the image\n",
        "                    batch_data[folder,idx,:,:,2] /= 255 #normalise and feed in the image\n",
        "\n",
        "                batch_labels[folder, int(t[folder + (batch*batch_size)].strip().split(';')[2])] = 1\n",
        "            yield batch_data, batch_labels #you yield the batch_data and the batch_labels, remember what does yield do\n",
        "\n"
      ]
    },
    {
      "cell_type": "markdown",
      "metadata": {
        "id": "O3lb1FinopRr"
      },
      "source": [
        "Note here that a video is represented above in the generator as (number of images, height, width, number of channels). Take this into consideration while creating the model architecture."
      ]
    },
    {
      "cell_type": "code",
      "execution_count": null,
      "metadata": {
        "colab": {
          "base_uri": "https://localhost:8080/"
        },
        "id": "l8fc9OhXopRr",
        "outputId": "a6e3f48e-e5df-49fe-eecd-84201527e5aa"
      },
      "outputs": [
        {
          "output_type": "stream",
          "name": "stdout",
          "text": [
            "# training sequences = 663\n",
            "# validation sequences = 100\n",
            "# epochs = 15\n"
          ]
        }
      ],
      "source": [
        "curr_dt_time = datetime.datetime.now()\n",
        "train_path = '/content/drive/MyDrive/Colab Notebooks/gesture_recognition/Project_data/train'\n",
        "val_path = '/content/drive/MyDrive/Colab Notebooks/gesture_recognition/Project_data/val'\n",
        "num_train_sequences = len(train_doc)\n",
        "print('# training sequences =', num_train_sequences)\n",
        "num_val_sequences = len(val_doc)\n",
        "print('# validation sequences =', num_val_sequences)\n",
        "num_epochs = 15\n",
        "print ('# epochs =', num_epochs)"
      ]
    },
    {
      "cell_type": "code",
      "source": [
        "len(train_path)"
      ],
      "metadata": {
        "id": "s98cv4Xskus4",
        "outputId": "f6029974-9dff-420a-89bb-8bb206a5c75b",
        "colab": {
          "base_uri": "https://localhost:8080/"
        }
      },
      "execution_count": null,
      "outputs": [
        {
          "output_type": "execute_result",
          "data": {
            "text/plain": [
              "77"
            ]
          },
          "metadata": {},
          "execution_count": 9
        }
      ]
    },
    {
      "cell_type": "markdown",
      "metadata": {
        "id": "Wj1ZWEUEopRs"
      },
      "source": [
        "## Model\n",
        "Here you make the model using different functionalities that Keras provides. Remember to use `Conv3D` and `MaxPooling3D` and not `Conv2D` and `Maxpooling2D` for a 3D convolution model. You would want to use `TimeDistributed` while building a Conv2D + RNN model. Also remember that the last layer is the softmax. Design the network in such a way that the model is able to give good accuracy on the least number of parameters so that it can fit in the memory of the webcam."
      ]
    },
    {
      "cell_type": "code",
      "execution_count": null,
      "metadata": {
        "id": "MjoagrP9opRs"
      },
      "outputs": [],
      "source": [
        "from keras.models import Sequential, Model\n",
        "from keras.layers import Dense, GRU, Flatten, TimeDistributed, Flatten, BatchNormalization, Activation, Dropout\n",
        "from keras.layers import Conv3D, MaxPooling3D\n",
        "from keras.callbacks import ModelCheckpoint, ReduceLROnPlateau\n",
        "from keras import optimizers\n",
        "\n",
        "Input_shape = (15,100,100,3)\n",
        "model = Sequential()\n",
        "model.add(Conv3D(32, (3,3,3), padding='same',input_shape=Input_shape))\n",
        "#model.add(Conv3D(32, kernel_size=(3, 3, 3), activation='relu', kernel_initializer='he_uniform', input_shape=sample_shape))\n",
        "model.add(Activation('relu'))\n",
        "model.add(BatchNormalization())\n",
        "model.add(Conv3D(32, (3, 3,3)))\n",
        "model.add(Activation('relu'))\n",
        "model.add(BatchNormalization())\n",
        "model.add(MaxPooling3D(pool_size=(2, 2,2)))\n",
        "model.add(Dropout(0.5))\n",
        "\n",
        "model.add(Conv3D(64, (3, 3,3), padding='same'))\n",
        "model.add(Activation('relu'))\n",
        "model.add(BatchNormalization())\n",
        "model.add(Conv3D(64, (3, 3,3)))\n",
        "model.add(Activation('relu'))\n",
        "model.add(BatchNormalization())\n",
        "model.add(MaxPooling3D(pool_size=(2, 2,2)))\n",
        "model.add(Dropout(0.5))\n",
        "model.add(Flatten())\n",
        "model.add(Dense(512))\n",
        "model.add(Activation('relu'))\n",
        "model.add(Dropout(0.5))\n",
        "model.add(Dense(5))\n",
        "model.add(Activation('softmax'))"
      ]
    },
    {
      "cell_type": "markdown",
      "metadata": {
        "id": "BZQjCEN1opRs"
      },
      "source": [
        "Now that you have written the model, the next step is to `compile` the model. When you print the `summary` of the model, you'll see the total number of parameters you have to train."
      ]
    },
    {
      "cell_type": "code",
      "execution_count": null,
      "metadata": {
        "scrolled": true,
        "colab": {
          "base_uri": "https://localhost:8080/"
        },
        "id": "Xq-a_bjvopRs",
        "outputId": "8d980109-933d-4675-dfb7-2b63f81b9436"
      },
      "outputs": [
        {
          "output_type": "stream",
          "name": "stderr",
          "text": [
            "WARNING:absl:`lr` is deprecated in Keras optimizer, please use `learning_rate` or use the legacy optimizer, e.g.,tf.keras.optimizers.legacy.Adam.\n"
          ]
        },
        {
          "output_type": "stream",
          "name": "stdout",
          "text": [
            "Model: \"sequential\"\n",
            "_________________________________________________________________\n",
            " Layer (type)                Output Shape              Param #   \n",
            "=================================================================\n",
            " conv3d (Conv3D)             (None, 15, 100, 100, 32   2624      \n",
            "                             )                                   \n",
            "                                                                 \n",
            " activation (Activation)     (None, 15, 100, 100, 32   0         \n",
            "                             )                                   \n",
            "                                                                 \n",
            " batch_normalization (Batch  (None, 15, 100, 100, 32   128       \n",
            " Normalization)              )                                   \n",
            "                                                                 \n",
            " conv3d_1 (Conv3D)           (None, 13, 98, 98, 32)    27680     \n",
            "                                                                 \n",
            " activation_1 (Activation)   (None, 13, 98, 98, 32)    0         \n",
            "                                                                 \n",
            " batch_normalization_1 (Bat  (None, 13, 98, 98, 32)    128       \n",
            " chNormalization)                                                \n",
            "                                                                 \n",
            " max_pooling3d (MaxPooling3  (None, 6, 49, 49, 32)     0         \n",
            " D)                                                              \n",
            "                                                                 \n",
            " dropout (Dropout)           (None, 6, 49, 49, 32)     0         \n",
            "                                                                 \n",
            " conv3d_2 (Conv3D)           (None, 6, 49, 49, 64)     55360     \n",
            "                                                                 \n",
            " activation_2 (Activation)   (None, 6, 49, 49, 64)     0         \n",
            "                                                                 \n",
            " batch_normalization_2 (Bat  (None, 6, 49, 49, 64)     256       \n",
            " chNormalization)                                                \n",
            "                                                                 \n",
            " conv3d_3 (Conv3D)           (None, 4, 47, 47, 64)     110656    \n",
            "                                                                 \n",
            " activation_3 (Activation)   (None, 4, 47, 47, 64)     0         \n",
            "                                                                 \n",
            " batch_normalization_3 (Bat  (None, 4, 47, 47, 64)     256       \n",
            " chNormalization)                                                \n",
            "                                                                 \n",
            " max_pooling3d_1 (MaxPoolin  (None, 2, 23, 23, 64)     0         \n",
            " g3D)                                                            \n",
            "                                                                 \n",
            " dropout_1 (Dropout)         (None, 2, 23, 23, 64)     0         \n",
            "                                                                 \n",
            " flatten (Flatten)           (None, 67712)             0         \n",
            "                                                                 \n",
            " dense (Dense)               (None, 512)               34669056  \n",
            "                                                                 \n",
            " activation_4 (Activation)   (None, 512)               0         \n",
            "                                                                 \n",
            " dropout_2 (Dropout)         (None, 512)               0         \n",
            "                                                                 \n",
            " dense_1 (Dense)             (None, 5)                 2565      \n",
            "                                                                 \n",
            " activation_5 (Activation)   (None, 5)                 0         \n",
            "                                                                 \n",
            "=================================================================\n",
            "Total params: 34868709 (133.01 MB)\n",
            "Trainable params: 34868325 (133.01 MB)\n",
            "Non-trainable params: 384 (1.50 KB)\n",
            "_________________________________________________________________\n",
            "None\n"
          ]
        }
      ],
      "source": [
        "optimiser = tf.keras.optimizers.Adam(lr=0.001)\n",
        "model.compile(optimizer=optimiser, loss='categorical_crossentropy', metrics=['categorical_accuracy'])\n",
        "print (model.summary())"
      ]
    },
    {
      "cell_type": "markdown",
      "metadata": {
        "id": "JyF7GCqGopRs"
      },
      "source": [
        "Let us create the `train_generator` and the `val_generator` which will be used in `.fit_generator`."
      ]
    },
    {
      "cell_type": "code",
      "execution_count": null,
      "metadata": {
        "id": "iYKz6tmqopRt"
      },
      "outputs": [],
      "source": [
        "train_generator = generator(train_path, train_doc, batch_size)\n",
        "val_generator = generator(val_path, val_doc, batch_size)"
      ]
    },
    {
      "cell_type": "code",
      "execution_count": null,
      "metadata": {
        "id": "SvUIIjO7opRt"
      },
      "outputs": [],
      "source": [
        "model_name = 'model_init' + '_' + str(curr_dt_time).replace(' ','').replace(':','_') + '/'\n",
        "\n",
        "if not os.path.exists(model_name):\n",
        "    os.mkdir(model_name)\n",
        "\n",
        "# filepath = model_name + 'model-{epoch:05d}-{loss:.5f}-{categorical_accuracy:.5f}-{val_loss:.5f}-{val_categorical_accuracy:.5f}.h5'\n",
        "filepath = model_name + 'model-epoch{epoch:05d}.h5'\n",
        "\n",
        "checkpoint = ModelCheckpoint(filepath, monitor='val_loss', verbose=1, save_best_only=False, save_weights_only=False, mode='auto') #, save_freq=1\n",
        "\n",
        "LR = ReduceLROnPlateau(monitor = \"val_loss\", factor = 0.1, patience = 10,\n",
        "  verbose = 0, mode = \"auto\", min_delta = 1e-04, cooldown = 0,\n",
        "  min_lr = 0)\n",
        "callbacks_list = [checkpoint, LR]"
      ]
    },
    {
      "cell_type": "markdown",
      "metadata": {
        "id": "ANZdEi1BopRt"
      },
      "source": [
        "The `steps_per_epoch` and `validation_steps` are used by `fit_generator` to decide the number of next() calls it need to make."
      ]
    },
    {
      "cell_type": "code",
      "execution_count": null,
      "metadata": {
        "id": "1oBsNYVfopRt"
      },
      "outputs": [],
      "source": [
        "if (num_train_sequences%batch_size) == 0:\n",
        "    steps_per_epoch = int(num_train_sequences/batch_size)\n",
        "else:\n",
        "    steps_per_epoch = (num_train_sequences//batch_size) + 1\n",
        "\n",
        "if (num_val_sequences%batch_size) == 0:\n",
        "    validation_steps = int(num_val_sequences/batch_size)\n",
        "else:\n",
        "    validation_steps = (num_val_sequences//batch_size) + 1"
      ]
    },
    {
      "cell_type": "code",
      "source": [
        "num_train_sequences"
      ],
      "metadata": {
        "colab": {
          "base_uri": "https://localhost:8080/"
        },
        "id": "GM0sQmEwiHPk",
        "outputId": "8969c31e-0ee0-45f8-e00f-17a157c8a082"
      },
      "execution_count": null,
      "outputs": [
        {
          "output_type": "execute_result",
          "data": {
            "text/plain": [
              "663"
            ]
          },
          "metadata": {},
          "execution_count": 15
        }
      ]
    },
    {
      "cell_type": "markdown",
      "metadata": {
        "id": "SP1kQ02yopRt"
      },
      "source": [
        "Let us now fit the model. This will start training the model and with the help of the checkpoints, you'll be able to save the model at the end of each epoch."
      ]
    },
    {
      "cell_type": "code",
      "source": [],
      "metadata": {
        "id": "8kMx-Tugfru3"
      },
      "execution_count": null,
      "outputs": []
    },
    {
      "cell_type": "code",
      "execution_count": null,
      "metadata": {
        "colab": {
          "base_uri": "https://localhost:8080/"
        },
        "id": "s-IUfIfwopRt",
        "outputId": "3c86ed8d-0aa8-4499-fd1d-130b60266393"
      },
      "outputs": [
        {
          "output_type": "stream",
          "name": "stdout",
          "text": [
            "Source path =  /content/drive/MyDrive/Colab Notebooks/gesture_recognition/Project_data/train ; batch size = 51\n",
            "Epoch 1/15\n",
            "13/13 [==============================] - ETA: 0s - loss: 1.6094 - categorical_accuracy: 0.1429Source path =  /content/drive/MyDrive/Colab Notebooks/gesture_recognition/Project_data/val ; batch size = 51\n",
            "\n",
            "Epoch 1: saving model to model_init_2024-03-0311_01_43.968933/model-epoch00001.h5\n"
          ]
        },
        {
          "output_type": "stream",
          "name": "stderr",
          "text": [
            "/usr/local/lib/python3.10/dist-packages/keras/src/engine/training.py:3103: UserWarning: You are saving your model as an HDF5 file via `model.save()`. This file format is considered legacy. We recommend using instead the native Keras format, e.g. `model.save('my_model.keras')`.\n",
            "  saving_api.save_model(\n"
          ]
        },
        {
          "output_type": "stream",
          "name": "stdout",
          "text": [
            "\b\b\b\b\b\b\b\b\b\b\b\b\b\b\b\b\b\b\b\b\b\b\b\b\b\b\b\b\b\b\b\b\b\b\b\b\b\b\b\b\b\b\b\b\b\b\b\b\b\b\b\b\b\b\b\b\b\b\b\b\b\b\b\b\b\b\b\b\b\b\b\b\b\b\b\b\b\b\b\b\b\b\b\b\b\b\b\b\b\b\b\b\b\b\r13/13 [==============================] - 773s 62s/step - loss: 1.6094 - categorical_accuracy: 0.1429 - val_loss: 1.6095 - val_categorical_accuracy: 0.1923 - lr: 0.0010\n",
            "Epoch 2/15\n",
            "13/13 [==============================] - ETA: 0s - loss: 1.6086 - categorical_accuracy: 0.2308\n",
            "Epoch 2: saving model to model_init_2024-03-0311_01_43.968933/model-epoch00002.h5\n",
            "13/13 [==============================] - 129s 11s/step - loss: 1.6086 - categorical_accuracy: 0.2308 - val_loss: 1.6039 - val_categorical_accuracy: 0.5000 - lr: 0.0010\n",
            "Epoch 3/15\n",
            "13/13 [==============================] - ETA: 0s - loss: 1.6112 - categorical_accuracy: 0.0000e+00 \n",
            "Epoch 3: saving model to model_init_2024-03-0311_01_43.968933/model-epoch00003.h5\n",
            "13/13 [==============================] - 115s 10s/step - loss: 1.6112 - categorical_accuracy: 0.0000e+00 - val_loss: 1.6082 - val_categorical_accuracy: 0.0000e+00 - lr: 0.0010\n",
            "Epoch 4/15\n",
            "13/13 [==============================] - ETA: 0s - loss: 1.6093 - categorical_accuracy: 0.2308 \n",
            "Epoch 4: saving model to model_init_2024-03-0311_01_43.968933/model-epoch00004.h5\n",
            "13/13 [==============================] - 173s 14s/step - loss: 1.6093 - categorical_accuracy: 0.2308 - val_loss: 1.6160 - val_categorical_accuracy: 0.0000e+00 - lr: 0.0010\n",
            "Epoch 5/15\n",
            "13/13 [==============================] - ETA: 0s - loss: 1.6063 - categorical_accuracy: 0.2308 \n",
            "Epoch 5: saving model to model_init_2024-03-0311_01_43.968933/model-epoch00005.h5\n",
            "13/13 [==============================] - 135s 11s/step - loss: 1.6063 - categorical_accuracy: 0.2308 - val_loss: 1.6035 - val_categorical_accuracy: 0.0000e+00 - lr: 0.0010\n",
            "Epoch 6/15\n",
            "13/13 [==============================] - ETA: 0s - loss: 1.6101 - categorical_accuracy: 0.1538 \n",
            "Epoch 6: saving model to model_init_2024-03-0311_01_43.968933/model-epoch00006.h5\n",
            "13/13 [==============================] - 162s 14s/step - loss: 1.6101 - categorical_accuracy: 0.1538 - val_loss: 1.6155 - val_categorical_accuracy: 0.5000 - lr: 0.0010\n",
            "Epoch 7/15\n",
            "13/13 [==============================] - ETA: 0s - loss: 1.6083 - categorical_accuracy: 0.2692 \n",
            "Epoch 7: saving model to model_init_2024-03-0311_01_43.968933/model-epoch00007.h5\n",
            "13/13 [==============================] - 235s 19s/step - loss: 1.6083 - categorical_accuracy: 0.2692 - val_loss: 1.6049 - val_categorical_accuracy: 0.0000e+00 - lr: 0.0010\n",
            "Epoch 8/15\n",
            "13/13 [==============================] - ETA: 0s - loss: 1.6066 - categorical_accuracy: 0.2692 \n",
            "Epoch 8: saving model to model_init_2024-03-0311_01_43.968933/model-epoch00008.h5\n",
            "13/13 [==============================] - 251s 21s/step - loss: 1.6066 - categorical_accuracy: 0.2692 - val_loss: 1.6145 - val_categorical_accuracy: 0.5000 - lr: 0.0010\n",
            "Epoch 9/15\n",
            "13/13 [==============================] - ETA: 0s - loss: 1.6064 - categorical_accuracy: 0.3462 \n",
            "Epoch 9: saving model to model_init_2024-03-0311_01_43.968933/model-epoch00009.h5\n",
            "13/13 [==============================] - 248s 21s/step - loss: 1.6064 - categorical_accuracy: 0.3462 - val_loss: 1.5994 - val_categorical_accuracy: 0.5000 - lr: 0.0010\n",
            "Epoch 10/15\n",
            "13/13 [==============================] - ETA: 0s - loss: 1.6100 - categorical_accuracy: 0.2308 \n",
            "Epoch 10: saving model to model_init_2024-03-0311_01_43.968933/model-epoch00010.h5\n",
            "13/13 [==============================] - 230s 19s/step - loss: 1.6100 - categorical_accuracy: 0.2308 - val_loss: 1.5931 - val_categorical_accuracy: 0.5000 - lr: 0.0010\n",
            "Epoch 11/15\n",
            "13/13 [==============================] - ETA: 0s - loss: 1.6100 - categorical_accuracy: 0.2308 \n",
            "Epoch 11: saving model to model_init_2024-03-0311_01_43.968933/model-epoch00011.h5\n",
            "13/13 [==============================] - 193s 16s/step - loss: 1.6100 - categorical_accuracy: 0.2308 - val_loss: 1.6003 - val_categorical_accuracy: 0.0000e+00 - lr: 0.0010\n",
            "Epoch 12/15\n",
            "13/13 [==============================] - ETA: 0s - loss: 1.6080 - categorical_accuracy: 0.2308 \n",
            "Epoch 12: saving model to model_init_2024-03-0311_01_43.968933/model-epoch00012.h5\n",
            "13/13 [==============================] - 255s 20s/step - loss: 1.6080 - categorical_accuracy: 0.2308 - val_loss: 1.6193 - val_categorical_accuracy: 0.0000e+00 - lr: 0.0010\n",
            "Epoch 13/15\n",
            "13/13 [==============================] - ETA: 0s - loss: 1.6090 - categorical_accuracy: 0.1154 \n",
            "Epoch 13: saving model to model_init_2024-03-0311_01_43.968933/model-epoch00013.h5\n",
            "13/13 [==============================] - 299s 25s/step - loss: 1.6090 - categorical_accuracy: 0.1154 - val_loss: 1.6013 - val_categorical_accuracy: 0.0000e+00 - lr: 0.0010\n",
            "Epoch 14/15\n",
            "13/13 [==============================] - ETA: 0s - loss: 1.6042 - categorical_accuracy: 0.3846 \n",
            "Epoch 14: saving model to model_init_2024-03-0311_01_43.968933/model-epoch00014.h5\n",
            "13/13 [==============================] - 144s 12s/step - loss: 1.6042 - categorical_accuracy: 0.3846 - val_loss: 1.6207 - val_categorical_accuracy: 0.0000e+00 - lr: 0.0010\n",
            "Epoch 15/15\n",
            "13/13 [==============================] - ETA: 0s - loss: 1.6066 - categorical_accuracy: 0.3077 \n",
            "Epoch 15: saving model to model_init_2024-03-0311_01_43.968933/model-epoch00015.h5\n",
            "13/13 [==============================] - 175s 14s/step - loss: 1.6066 - categorical_accuracy: 0.3077 - val_loss: 1.5919 - val_categorical_accuracy: 0.5000 - lr: 0.0010\n"
          ]
        },
        {
          "output_type": "execute_result",
          "data": {
            "text/plain": [
              "<keras.src.callbacks.History at 0x7dca281e6200>"
            ]
          },
          "metadata": {},
          "execution_count": 16
        }
      ],
      "source": [
        "model.fit(train_generator, steps_per_epoch=steps_per_epoch, epochs=num_epochs, verbose=1,\n",
        "                    callbacks=callbacks_list, validation_data=val_generator,\n",
        "                    validation_steps=validation_steps, class_weight=None, workers=1, initial_epoch=0)"
      ]
    },
    {
      "cell_type": "code",
      "source": [],
      "metadata": {
        "id": "gKSQiOJx3FsW"
      },
      "execution_count": null,
      "outputs": []
    },
    {
      "cell_type": "markdown",
      "source": [
        "Model CONV2D + LSTM"
      ],
      "metadata": {
        "id": "fg9Zpr_DG-Qc"
      }
    },
    {
      "cell_type": "code",
      "source": [
        "#write your model here\n",
        "from keras.models import Sequential, Model\n",
        "from keras.layers import Conv2D,MaxPooling2D\n",
        "from keras.callbacks import ModelCheckpoint, ReduceLROnPlateau\n",
        "from keras.layers import Dense, GRU, Flatten, TimeDistributed, Flatten, BatchNormalization, Activation, Dropout, LSTM, Bidirectional\n",
        "\n",
        "\n",
        "Input_shape_1 = (18, 100, 100, 3)\n",
        "model = Sequential()\n",
        "model.add(TimeDistributed(Conv2D(32, (7, 7), strides=(2, 2), activation='relu', padding='same'), input_shape=Input_shape_1))\n",
        "model.add(TimeDistributed(Conv2D(32, (3,3), kernel_initializer=\"he_normal\", activation='relu')))\n",
        "model.add(TimeDistributed(MaxPooling2D((2, 2), strides=(2, 2))))\n",
        "\n",
        "model.add(TimeDistributed(Conv2D(64, (3,3), padding='same', activation='relu')))\n",
        "model.add(TimeDistributed(Conv2D(64, (3,3), padding='same', activation='relu')))\n",
        "model.add(TimeDistributed(MaxPooling2D((2, 2), strides=(2, 2))))\n",
        "\n",
        "model.add(TimeDistributed(Conv2D(128, (3,3), padding='same', activation='relu')))\n",
        "model.add(TimeDistributed(Conv2D(128, (3,3), padding='same', activation='relu')))\n",
        "model.add(TimeDistributed(MaxPooling2D((2, 2), strides=(2, 2))))\n",
        "\n",
        "model.add(TimeDistributed(Conv2D(256, (3,3), padding='same', activation='relu')))\n",
        "model.add(TimeDistributed(Conv2D(256, (3,3), padding='same', activation='relu')))\n",
        "model.add(TimeDistributed(MaxPooling2D((2, 2), strides=(2, 2))))\n",
        "\n",
        "model.add(TimeDistributed(Conv2D(512, (3,3), padding='same', activation='relu')))\n",
        "model.add(TimeDistributed(Conv2D(512, (3,3), padding='same', activation='relu')))\n",
        "model.add(TimeDistributed(MaxPooling2D((2, 2), strides=(2, 2))))\n",
        "model.add(TimeDistributed(Flatten()))\n",
        "\n",
        "model.add(Dropout(0.5))\n",
        "model.add(LSTM(512, return_sequences=False, dropout=0.5))\n",
        "model.add(Dense(5, activation='softmax'))\n",
        "model.summary()"
      ],
      "metadata": {
        "colab": {
          "base_uri": "https://localhost:8080/"
        },
        "id": "75QnMCRdHAcu",
        "outputId": "0efca4f2-4ce4-4173-9cf6-47e4e4aceb03"
      },
      "execution_count": null,
      "outputs": [
        {
          "output_type": "stream",
          "name": "stdout",
          "text": [
            "Model: \"sequential_1\"\n",
            "_________________________________________________________________\n",
            " Layer (type)                Output Shape              Param #   \n",
            "=================================================================\n",
            " time_distributed (TimeDist  (None, 18, 50, 50, 32)    4736      \n",
            " ributed)                                                        \n",
            "                                                                 \n",
            " time_distributed_1 (TimeDi  (None, 18, 48, 48, 32)    9248      \n",
            " stributed)                                                      \n",
            "                                                                 \n",
            " time_distributed_2 (TimeDi  (None, 18, 24, 24, 32)    0         \n",
            " stributed)                                                      \n",
            "                                                                 \n",
            " time_distributed_3 (TimeDi  (None, 18, 24, 24, 64)    18496     \n",
            " stributed)                                                      \n",
            "                                                                 \n",
            " time_distributed_4 (TimeDi  (None, 18, 24, 24, 64)    36928     \n",
            " stributed)                                                      \n",
            "                                                                 \n",
            " time_distributed_5 (TimeDi  (None, 18, 12, 12, 64)    0         \n",
            " stributed)                                                      \n",
            "                                                                 \n",
            " time_distributed_6 (TimeDi  (None, 18, 12, 12, 128)   73856     \n",
            " stributed)                                                      \n",
            "                                                                 \n",
            " time_distributed_7 (TimeDi  (None, 18, 12, 12, 128)   147584    \n",
            " stributed)                                                      \n",
            "                                                                 \n",
            " time_distributed_8 (TimeDi  (None, 18, 6, 6, 128)     0         \n",
            " stributed)                                                      \n",
            "                                                                 \n",
            " time_distributed_9 (TimeDi  (None, 18, 6, 6, 256)     295168    \n",
            " stributed)                                                      \n",
            "                                                                 \n",
            " time_distributed_10 (TimeD  (None, 18, 6, 6, 256)     590080    \n",
            " istributed)                                                     \n",
            "                                                                 \n",
            " time_distributed_11 (TimeD  (None, 18, 3, 3, 256)     0         \n",
            " istributed)                                                     \n",
            "                                                                 \n",
            " time_distributed_12 (TimeD  (None, 18, 3, 3, 512)     1180160   \n",
            " istributed)                                                     \n",
            "                                                                 \n",
            " time_distributed_13 (TimeD  (None, 18, 3, 3, 512)     2359808   \n",
            " istributed)                                                     \n",
            "                                                                 \n",
            " time_distributed_14 (TimeD  (None, 18, 1, 1, 512)     0         \n",
            " istributed)                                                     \n",
            "                                                                 \n",
            " time_distributed_15 (TimeD  (None, 18, 512)           0         \n",
            " istributed)                                                     \n",
            "                                                                 \n",
            " dropout_3 (Dropout)         (None, 18, 512)           0         \n",
            "                                                                 \n",
            " lstm (LSTM)                 (None, 512)               2099200   \n",
            "                                                                 \n",
            " dense_2 (Dense)             (None, 5)                 2565      \n",
            "                                                                 \n",
            "=================================================================\n",
            "Total params: 6817829 (26.01 MB)\n",
            "Trainable params: 6817829 (26.01 MB)\n",
            "Non-trainable params: 0 (0.00 Byte)\n",
            "_________________________________________________________________\n"
          ]
        }
      ]
    },
    {
      "cell_type": "code",
      "source": [
        "#optimiser = Keras.optimizers.Adam(lr=0.001)\n",
        "model.compile(optimizer='sgd', loss='categorical_crossentropy', metrics=['categorical_accuracy'])\n",
        "print (model.summary())"
      ],
      "metadata": {
        "colab": {
          "base_uri": "https://localhost:8080/"
        },
        "id": "HPw0K6qbHLH2",
        "outputId": "052aaf6e-7f7f-49ff-d3ba-9e94c28cf06e"
      },
      "execution_count": null,
      "outputs": [
        {
          "output_type": "stream",
          "name": "stdout",
          "text": [
            "Model: \"sequential_1\"\n",
            "_________________________________________________________________\n",
            " Layer (type)                Output Shape              Param #   \n",
            "=================================================================\n",
            " time_distributed (TimeDist  (None, 18, 50, 50, 32)    4736      \n",
            " ributed)                                                        \n",
            "                                                                 \n",
            " time_distributed_1 (TimeDi  (None, 18, 48, 48, 32)    9248      \n",
            " stributed)                                                      \n",
            "                                                                 \n",
            " time_distributed_2 (TimeDi  (None, 18, 24, 24, 32)    0         \n",
            " stributed)                                                      \n",
            "                                                                 \n",
            " time_distributed_3 (TimeDi  (None, 18, 24, 24, 64)    18496     \n",
            " stributed)                                                      \n",
            "                                                                 \n",
            " time_distributed_4 (TimeDi  (None, 18, 24, 24, 64)    36928     \n",
            " stributed)                                                      \n",
            "                                                                 \n",
            " time_distributed_5 (TimeDi  (None, 18, 12, 12, 64)    0         \n",
            " stributed)                                                      \n",
            "                                                                 \n",
            " time_distributed_6 (TimeDi  (None, 18, 12, 12, 128)   73856     \n",
            " stributed)                                                      \n",
            "                                                                 \n",
            " time_distributed_7 (TimeDi  (None, 18, 12, 12, 128)   147584    \n",
            " stributed)                                                      \n",
            "                                                                 \n",
            " time_distributed_8 (TimeDi  (None, 18, 6, 6, 128)     0         \n",
            " stributed)                                                      \n",
            "                                                                 \n",
            " time_distributed_9 (TimeDi  (None, 18, 6, 6, 256)     295168    \n",
            " stributed)                                                      \n",
            "                                                                 \n",
            " time_distributed_10 (TimeD  (None, 18, 6, 6, 256)     590080    \n",
            " istributed)                                                     \n",
            "                                                                 \n",
            " time_distributed_11 (TimeD  (None, 18, 3, 3, 256)     0         \n",
            " istributed)                                                     \n",
            "                                                                 \n",
            " time_distributed_12 (TimeD  (None, 18, 3, 3, 512)     1180160   \n",
            " istributed)                                                     \n",
            "                                                                 \n",
            " time_distributed_13 (TimeD  (None, 18, 3, 3, 512)     2359808   \n",
            " istributed)                                                     \n",
            "                                                                 \n",
            " time_distributed_14 (TimeD  (None, 18, 1, 1, 512)     0         \n",
            " istributed)                                                     \n",
            "                                                                 \n",
            " time_distributed_15 (TimeD  (None, 18, 512)           0         \n",
            " istributed)                                                     \n",
            "                                                                 \n",
            " dropout_3 (Dropout)         (None, 18, 512)           0         \n",
            "                                                                 \n",
            " lstm (LSTM)                 (None, 512)               2099200   \n",
            "                                                                 \n",
            " dense_2 (Dense)             (None, 5)                 2565      \n",
            "                                                                 \n",
            "=================================================================\n",
            "Total params: 6817829 (26.01 MB)\n",
            "Trainable params: 6817829 (26.01 MB)\n",
            "Non-trainable params: 0 (0.00 Byte)\n",
            "_________________________________________________________________\n",
            "None\n"
          ]
        }
      ]
    },
    {
      "cell_type": "code",
      "source": [
        "train_generator = generator(train_path, train_doc, batch_size)\n",
        "val_generator = generator(val_path, val_doc, batch_size)"
      ],
      "metadata": {
        "id": "YwS-ZSfnHOP0"
      },
      "execution_count": null,
      "outputs": []
    },
    {
      "cell_type": "code",
      "source": [
        "model_name = 'Gesture_recog' + '_' + str(curr_dt_time).replace(' ','').replace(':','_') + '/'\n",
        "\n",
        "if not os.path.exists(model_name):\n",
        "    os.mkdir(model_name)\n",
        "\n",
        "filepath = model_name + 'model-model-epoch{epoch:05d}.h5'\n",
        "\n",
        "checkpoint = ModelCheckpoint(filepath, monitor='val_loss', verbose=1, save_best_only=False, save_weights_only=False, mode='auto', period=1)\n",
        "\n",
        "LR = ReduceLROnPlateau(monitor = \"val_loss\", factor = 0.1, patience = 10,\n",
        "  verbose = 0, mode = \"auto\", epsilon = 1e-04, cooldown = 0,\n",
        "  min_lr = 0)\n",
        "callbacks_list = [checkpoint, LR]"
      ],
      "metadata": {
        "colab": {
          "base_uri": "https://localhost:8080/"
        },
        "id": "dklDO22ZHQi8",
        "outputId": "ef67b273-baae-460b-f598-078f2dec9a62"
      },
      "execution_count": null,
      "outputs": [
        {
          "output_type": "stream",
          "name": "stderr",
          "text": [
            "WARNING:tensorflow:`period` argument is deprecated. Please use `save_freq` to specify the frequency in number of batches seen.\n",
            "WARNING:tensorflow:`epsilon` argument is deprecated and will be removed, use `min_delta` instead.\n"
          ]
        }
      ]
    },
    {
      "cell_type": "code",
      "source": [
        "if (num_train_sequences%batch_size) == 0:\n",
        "    steps_per_epoch = int(num_train_sequences/batch_size)\n",
        "else:\n",
        "    steps_per_epoch = (num_train_sequences//batch_size) + 1\n",
        "\n",
        "if (num_val_sequences%batch_size) == 0:\n",
        "    validation_steps = int(num_val_sequences/batch_size)\n",
        "else:\n",
        "    validation_steps = (num_val_sequences//batch_size) + 1"
      ],
      "metadata": {
        "id": "sV6Nfc_yHdDj"
      },
      "execution_count": null,
      "outputs": []
    },
    {
      "cell_type": "code",
      "source": [
        "history  = model.fit_generator(train_generator, steps_per_epoch=steps_per_epoch, epochs=num_epochs, verbose=1,\n",
        "                    callbacks=callbacks_list, validation_data=val_generator,\n",
        "                    validation_steps=validation_steps, class_weight=None, workers=1, initial_epoch=0)"
      ],
      "metadata": {
        "colab": {
          "base_uri": "https://localhost:8080/"
        },
        "id": "HLSvvUoBHfLe",
        "outputId": "1112c623-ef8c-411a-bb0d-2943cec6b2c4"
      },
      "execution_count": null,
      "outputs": [
        {
          "output_type": "stream",
          "name": "stderr",
          "text": [
            "<ipython-input-22-bd77c9c60c14>:1: UserWarning: `Model.fit_generator` is deprecated and will be removed in a future version. Please use `Model.fit`, which supports generators.\n",
            "  model.fit_generator(train_generator, steps_per_epoch=steps_per_epoch, epochs=num_epochs, verbose=1,\n"
          ]
        },
        {
          "output_type": "stream",
          "name": "stdout",
          "text": [
            "Source path =  /content/drive/MyDrive/Colab Notebooks/gesture_recognition/Project_data/train ; batch size = 51\n",
            "Epoch 1/15\n",
            "13/13 [==============================] - ETA: 0s - loss: 1.6093 - categorical_accuracy: 0.1746Source path =  /content/drive/MyDrive/Colab Notebooks/gesture_recognition/Project_data/val ; batch size = 51\n",
            "\n",
            "Epoch 1: saving model to Gesture_recog_2024-03-0311_01_43.968933/model-model-epoch00001.h5\n",
            "13/13 [==============================] - 266s 21s/step - loss: 1.6093 - categorical_accuracy: 0.1746 - val_loss: 1.6151 - val_categorical_accuracy: 0.1923 - lr: 0.0100\n",
            "Epoch 2/15\n",
            " 1/13 [=>............................] - ETA: 0s - loss: 1.6132 - categorical_accuracy: 0.0000e+00"
          ]
        },
        {
          "output_type": "stream",
          "name": "stderr",
          "text": [
            "/usr/local/lib/python3.10/dist-packages/keras/src/engine/training.py:3103: UserWarning: You are saving your model as an HDF5 file via `model.save()`. This file format is considered legacy. We recommend using instead the native Keras format, e.g. `model.save('my_model.keras')`.\n",
            "  saving_api.save_model(\n"
          ]
        },
        {
          "output_type": "stream",
          "name": "stdout",
          "text": [
            "13/13 [==============================] - ETA: 0s - loss: 1.6155 - categorical_accuracy: 0.2308\n",
            "Epoch 2: saving model to Gesture_recog_2024-03-0311_01_43.968933/model-model-epoch00002.h5\n",
            "13/13 [==============================] - 70s 6s/step - loss: 1.6155 - categorical_accuracy: 0.2308 - val_loss: 1.6441 - val_categorical_accuracy: 0.0000e+00 - lr: 0.0100\n",
            "Epoch 3/15\n",
            "13/13 [==============================] - ETA: 0s - loss: 1.6207 - categorical_accuracy: 0.0769    \n",
            "Epoch 3: saving model to Gesture_recog_2024-03-0311_01_43.968933/model-model-epoch00003.h5\n",
            "13/13 [==============================] - 58s 4s/step - loss: 1.6207 - categorical_accuracy: 0.0769 - val_loss: 1.6108 - val_categorical_accuracy: 0.5000 - lr: 0.0100\n",
            "Epoch 4/15\n",
            "13/13 [==============================] - ETA: 0s - loss: 1.6122 - categorical_accuracy: 0.2308\n",
            "Epoch 4: saving model to Gesture_recog_2024-03-0311_01_43.968933/model-model-epoch00004.h5\n",
            "13/13 [==============================] - 118s 9s/step - loss: 1.6122 - categorical_accuracy: 0.2308 - val_loss: 1.5482 - val_categorical_accuracy: 0.5000 - lr: 0.0100\n",
            "Epoch 5/15\n",
            "13/13 [==============================] - ETA: 0s - loss: 1.6085 - categorical_accuracy: 0.1538\n",
            "Epoch 5: saving model to Gesture_recog_2024-03-0311_01_43.968933/model-model-epoch00005.h5\n",
            "13/13 [==============================] - 124s 9s/step - loss: 1.6085 - categorical_accuracy: 0.1538 - val_loss: 1.5727 - val_categorical_accuracy: 0.0000e+00 - lr: 0.0100\n",
            "Epoch 6/15\n",
            "13/13 [==============================] - ETA: 0s - loss: 1.6496 - categorical_accuracy: 0.0769\n",
            "Epoch 6: saving model to Gesture_recog_2024-03-0311_01_43.968933/model-model-epoch00006.h5\n",
            "13/13 [==============================] - 135s 11s/step - loss: 1.6496 - categorical_accuracy: 0.0769 - val_loss: 1.6072 - val_categorical_accuracy: 0.5000 - lr: 0.0100\n",
            "Epoch 7/15\n",
            "13/13 [==============================] - ETA: 0s - loss: 1.6074 - categorical_accuracy: 0.1923 \n",
            "Epoch 7: saving model to Gesture_recog_2024-03-0311_01_43.968933/model-model-epoch00007.h5\n",
            "13/13 [==============================] - 141s 12s/step - loss: 1.6074 - categorical_accuracy: 0.1923 - val_loss: 1.6087 - val_categorical_accuracy: 0.5000 - lr: 0.0100\n",
            "Epoch 8/15\n",
            "13/13 [==============================] - ETA: 0s - loss: 1.6158 - categorical_accuracy: 0.1154 \n",
            "Epoch 8: saving model to Gesture_recog_2024-03-0311_01_43.968933/model-model-epoch00008.h5\n",
            "13/13 [==============================] - 125s 9s/step - loss: 1.6158 - categorical_accuracy: 0.1154 - val_loss: 1.6278 - val_categorical_accuracy: 0.0000e+00 - lr: 0.0100\n",
            "Epoch 9/15\n",
            "13/13 [==============================] - ETA: 0s - loss: 1.6028 - categorical_accuracy: 0.2308 \n",
            "Epoch 9: saving model to Gesture_recog_2024-03-0311_01_43.968933/model-model-epoch00009.h5\n",
            "13/13 [==============================] - 136s 10s/step - loss: 1.6028 - categorical_accuracy: 0.2308 - val_loss: 1.5745 - val_categorical_accuracy: 0.0000e+00 - lr: 0.0100\n",
            "Epoch 10/15\n",
            "13/13 [==============================] - ETA: 0s - loss: 1.6205 - categorical_accuracy: 0.1538 \n",
            "Epoch 10: saving model to Gesture_recog_2024-03-0311_01_43.968933/model-model-epoch00010.h5\n",
            "13/13 [==============================] - 128s 11s/step - loss: 1.6205 - categorical_accuracy: 0.1538 - val_loss: 1.6859 - val_categorical_accuracy: 0.0000e+00 - lr: 0.0100\n",
            "Epoch 11/15\n",
            "13/13 [==============================] - ETA: 0s - loss: 1.6125 - categorical_accuracy: 0.2308\n",
            "Epoch 11: saving model to Gesture_recog_2024-03-0311_01_43.968933/model-model-epoch00011.h5\n",
            "13/13 [==============================] - 59s 4s/step - loss: 1.6125 - categorical_accuracy: 0.2308 - val_loss: 1.6292 - val_categorical_accuracy: 0.0000e+00 - lr: 0.0100\n",
            "Epoch 12/15\n",
            "13/13 [==============================] - ETA: 0s - loss: 1.6090 - categorical_accuracy: 0.2692 \n",
            "Epoch 12: saving model to Gesture_recog_2024-03-0311_01_43.968933/model-model-epoch00012.h5\n",
            "13/13 [==============================] - 174s 14s/step - loss: 1.6090 - categorical_accuracy: 0.2692 - val_loss: 1.6630 - val_categorical_accuracy: 0.0000e+00 - lr: 0.0100\n",
            "Epoch 13/15\n",
            "13/13 [==============================] - ETA: 0s - loss: 1.6139 - categorical_accuracy: 0.0769\n",
            "Epoch 13: saving model to Gesture_recog_2024-03-0311_01_43.968933/model-model-epoch00013.h5\n",
            "13/13 [==============================] - 149s 12s/step - loss: 1.6139 - categorical_accuracy: 0.0769 - val_loss: 1.6363 - val_categorical_accuracy: 0.5000 - lr: 0.0100\n",
            "Epoch 14/15\n",
            "13/13 [==============================] - ETA: 0s - loss: 1.6064 - categorical_accuracy: 0.3462\n",
            "Epoch 14: saving model to Gesture_recog_2024-03-0311_01_43.968933/model-model-epoch00014.h5\n",
            "13/13 [==============================] - 131s 11s/step - loss: 1.6064 - categorical_accuracy: 0.3462 - val_loss: 1.5539 - val_categorical_accuracy: 0.5000 - lr: 0.0100\n",
            "Epoch 15/15\n",
            "13/13 [==============================] - ETA: 0s - loss: 1.6174 - categorical_accuracy: 0.1538\n",
            "Epoch 15: saving model to Gesture_recog_2024-03-0311_01_43.968933/model-model-epoch00015.h5\n",
            "13/13 [==============================] - 93s 8s/step - loss: 1.6174 - categorical_accuracy: 0.1538 - val_loss: 1.6021 - val_categorical_accuracy: 0.5000 - lr: 1.0000e-03\n"
          ]
        },
        {
          "output_type": "execute_result",
          "data": {
            "text/plain": [
              "<keras.src.callbacks.History at 0x7dca82221ba0>"
            ]
          },
          "metadata": {},
          "execution_count": 22
        }
      ]
    },
    {
      "cell_type": "code",
      "source": [
        "# import matplotlib.pyplot as plt\n",
        "\n",
        "# plt.figure(figsize=(20,6))\n",
        "# ax1 = plt.subplot(121)\n",
        "# ax1 = plt.plot(history.history['loss'])\n",
        "# ax1 = plt.plot(history.history['val_loss'])\n",
        "# plt.title('model loss')\n",
        "# plt.ylabel('loss')\n",
        "# plt.xlabel('epoch')\n",
        "# plt.legend(['train', 'validation'], loc='lower left')\n",
        "# ax2 = plt.subplot(122)\n",
        "# ax2 = plt.plot(history.history['categorical_accuracy'])\n",
        "# ax2 = plt.plot(history.history['val_categorical_accuracy'])\n",
        "# plt.title('model accuracy')\n",
        "# plt.ylabel('categorical_accuracy')\n",
        "# plt.xlabel('epoch')\n",
        "# plt.legend(['train', 'validation'], loc='lower left')"
      ],
      "metadata": {
        "id": "aaYeKKruIYAD"
      },
      "execution_count": null,
      "outputs": []
    },
    {
      "cell_type": "code",
      "source": [],
      "metadata": {
        "id": "kZZnjQtndO3a"
      },
      "execution_count": null,
      "outputs": []
    },
    {
      "cell_type": "code",
      "source": [],
      "metadata": {
        "id": "M6zygfdSZhx4"
      },
      "execution_count": null,
      "outputs": []
    }
  ],
  "metadata": {
    "kernelspec": {
      "display_name": "Python 3",
      "name": "python3"
    },
    "language_info": {
      "codemirror_mode": {
        "name": "ipython",
        "version": 3
      },
      "file_extension": ".py",
      "mimetype": "text/x-python",
      "name": "python",
      "nbconvert_exporter": "python",
      "pygments_lexer": "ipython3",
      "version": "3.6.5"
    },
    "colab": {
      "provenance": [],
      "gpuType": "T4"
    },
    "accelerator": "GPU"
  },
  "nbformat": 4,
  "nbformat_minor": 0
}